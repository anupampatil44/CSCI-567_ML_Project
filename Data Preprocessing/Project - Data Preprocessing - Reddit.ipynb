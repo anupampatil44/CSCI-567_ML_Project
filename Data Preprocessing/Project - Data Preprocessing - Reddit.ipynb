{
 "cells": [
  {
   "cell_type": "code",
   "execution_count": 17,
   "id": "59d4eade",
   "metadata": {},
   "outputs": [],
   "source": [
    "import pandas as pd\n",
    "from datasets import Dataset\n",
    "import numpy as np"
   ]
  },
  {
   "cell_type": "code",
   "execution_count": 5,
   "id": "04ea49ad",
   "metadata": {},
   "outputs": [],
   "source": [
    "df = pd.read_csv('train-balanced-sarcasm.csv')"
   ]
  },
  {
   "cell_type": "code",
   "execution_count": 6,
   "id": "23ced8a2",
   "metadata": {},
   "outputs": [
    {
     "name": "stdout",
     "output_type": "stream",
     "text": [
      "505413   505413\n"
     ]
    }
   ],
   "source": [
    "print(len(df[df['label'] == 1]), \" \", len(df[df['label'] == 0]))\n",
    "df_sarcasm = df[df['label'] == 1].reset_index(drop = True)"
   ]
  },
  {
   "cell_type": "code",
   "execution_count": 15,
   "id": "b6da416f",
   "metadata": {},
   "outputs": [
    {
     "data": {
      "text/html": [
       "<div>\n",
       "<style scoped>\n",
       "    .dataframe tbody tr th:only-of-type {\n",
       "        vertical-align: middle;\n",
       "    }\n",
       "\n",
       "    .dataframe tbody tr th {\n",
       "        vertical-align: top;\n",
       "    }\n",
       "\n",
       "    .dataframe thead th {\n",
       "        text-align: right;\n",
       "    }\n",
       "</style>\n",
       "<table border=\"1\" class=\"dataframe\">\n",
       "  <thead>\n",
       "    <tr style=\"text-align: right;\">\n",
       "      <th></th>\n",
       "      <th>label</th>\n",
       "      <th>comment</th>\n",
       "      <th>author</th>\n",
       "      <th>subreddit</th>\n",
       "      <th>score</th>\n",
       "      <th>ups</th>\n",
       "      <th>downs</th>\n",
       "      <th>date</th>\n",
       "      <th>created_utc</th>\n",
       "      <th>parent_comment</th>\n",
       "    </tr>\n",
       "  </thead>\n",
       "  <tbody>\n",
       "    <tr>\n",
       "      <th>0</th>\n",
       "      <td>1</td>\n",
       "      <td>But they'll have all those reviews!</td>\n",
       "      <td>RoguishPoppet</td>\n",
       "      <td>ProductTesting</td>\n",
       "      <td>0</td>\n",
       "      <td>-1</td>\n",
       "      <td>-1</td>\n",
       "      <td>2016-11</td>\n",
       "      <td>2016-11-01 02:04:59</td>\n",
       "      <td>The dumb thing is, they are risking their sell...</td>\n",
       "    </tr>\n",
       "    <tr>\n",
       "      <th>1</th>\n",
       "      <td>1</td>\n",
       "      <td>wow it is totally unreasonable to assume that ...</td>\n",
       "      <td>pb2crazy</td>\n",
       "      <td>politics</td>\n",
       "      <td>2</td>\n",
       "      <td>-1</td>\n",
       "      <td>-1</td>\n",
       "      <td>2016-11</td>\n",
       "      <td>2016-11-01 02:42:11</td>\n",
       "      <td>Clinton campaign accuses FBI of 'blatant doubl...</td>\n",
       "    </tr>\n",
       "    <tr>\n",
       "      <th>2</th>\n",
       "      <td>1</td>\n",
       "      <td>Ho ho ho... But Melania said that there is no ...</td>\n",
       "      <td>pb2crazy</td>\n",
       "      <td>politics</td>\n",
       "      <td>8</td>\n",
       "      <td>-1</td>\n",
       "      <td>-1</td>\n",
       "      <td>2016-10</td>\n",
       "      <td>2016-10-18 16:20:53</td>\n",
       "      <td>Anyone else think that it was interesting the ...</td>\n",
       "    </tr>\n",
       "    <tr>\n",
       "      <th>3</th>\n",
       "      <td>1</td>\n",
       "      <td>I can't wait until @potus starts a twitter war...</td>\n",
       "      <td>kitduncan</td>\n",
       "      <td>politics</td>\n",
       "      <td>3</td>\n",
       "      <td>-1</td>\n",
       "      <td>-1</td>\n",
       "      <td>2016-11</td>\n",
       "      <td>2016-11-01 03:22:33</td>\n",
       "      <td>Here's what happens when Obama gives up his Tw...</td>\n",
       "    </tr>\n",
       "    <tr>\n",
       "      <th>4</th>\n",
       "      <td>1</td>\n",
       "      <td>gotta love the teachers who give exams on the ...</td>\n",
       "      <td>DEP61</td>\n",
       "      <td>CFBOffTopic</td>\n",
       "      <td>3</td>\n",
       "      <td>-1</td>\n",
       "      <td>-1</td>\n",
       "      <td>2016-11</td>\n",
       "      <td>2016-11-01 03:30:11</td>\n",
       "      <td>Monday night Drinking thread Brought to You by...</td>\n",
       "    </tr>\n",
       "  </tbody>\n",
       "</table>\n",
       "</div>"
      ],
      "text/plain": [
       "   label                                            comment         author  \\\n",
       "0      1                But they'll have all those reviews!  RoguishPoppet   \n",
       "1      1  wow it is totally unreasonable to assume that ...       pb2crazy   \n",
       "2      1  Ho ho ho... But Melania said that there is no ...       pb2crazy   \n",
       "3      1  I can't wait until @potus starts a twitter war...      kitduncan   \n",
       "4      1  gotta love the teachers who give exams on the ...          DEP61   \n",
       "\n",
       "        subreddit  score  ups  downs     date          created_utc  \\\n",
       "0  ProductTesting      0   -1     -1  2016-11  2016-11-01 02:04:59   \n",
       "1        politics      2   -1     -1  2016-11  2016-11-01 02:42:11   \n",
       "2        politics      8   -1     -1  2016-10  2016-10-18 16:20:53   \n",
       "3        politics      3   -1     -1  2016-11  2016-11-01 03:22:33   \n",
       "4     CFBOffTopic      3   -1     -1  2016-11  2016-11-01 03:30:11   \n",
       "\n",
       "                                      parent_comment  \n",
       "0  The dumb thing is, they are risking their sell...  \n",
       "1  Clinton campaign accuses FBI of 'blatant doubl...  \n",
       "2  Anyone else think that it was interesting the ...  \n",
       "3  Here's what happens when Obama gives up his Tw...  \n",
       "4  Monday night Drinking thread Brought to You by...  "
      ]
     },
     "execution_count": 15,
     "metadata": {},
     "output_type": "execute_result"
    }
   ],
   "source": [
    "df_sarcasm.head()"
   ]
  },
  {
   "cell_type": "code",
   "execution_count": 13,
   "id": "bd2150dc",
   "metadata": {},
   "outputs": [],
   "source": [
    "df_data = df_sarcasm[['comment', 'parent_comment']]\n",
    "df_data = df_data.rename(columns = {\"comment\" : \"Sarcastic Comment\", \"parent_comment\": \"Context\"})\n",
    "\n",
    "df_bert = df[['comment', 'label']]\n",
    "train, validate, test = np.split(df_bert.sample(frac=1, random_state=42), [int(.6*len(df_bert)), int(.8*len(df_bert))])\n",
    "train = train.reset_index(drop = True)\n",
    "validate = validate.reset_index(drop = True)\n",
    "test = validate.reset_index(drop = True)"
   ]
  },
  {
   "cell_type": "code",
   "execution_count": 15,
   "id": "bab9733e",
   "metadata": {},
   "outputs": [
    {
     "name": "stdout",
     "output_type": "stream",
     "text": [
      "606495   202165   202165\n",
      "                                             comment  label\n",
      "0                 And he sure as hell is successful!      1\n",
      "1  wait, you have to win the candidates to challe...      1\n",
      "2  I mean how could anyone not see that it is ant...      1\n",
      "3  Funny thing, most of the girl pants I've bough...      0\n",
      "4  Also Ranch dressing, because LBJ was Texan, an...      0\n",
      "                                             comment  label\n",
      "0                                       exactly.. :\\      0\n",
      "1                          thanks i ll let him know.      0\n",
      "2  Because we have something **BETTER** - Being P...      1\n",
      "3  Its totally not the same thing tho cause women...      1\n",
      "4  I like that Rockets and Wolves fans have nice ...      1\n",
      "                                             comment  label\n",
      "0                                       exactly.. :\\      0\n",
      "1                          thanks i ll let him know.      0\n",
      "2  Because we have something **BETTER** - Being P...      1\n",
      "3  Its totally not the same thing tho cause women...      1\n",
      "4  I like that Rockets and Wolves fans have nice ...      1\n"
     ]
    }
   ],
   "source": [
    "# df_data.head()\n",
    "print(len(train), \" \", len(validate), \" \", len(test))\n",
    "print(train.head())\n",
    "print(validate.head())\n",
    "print(test.head())"
   ]
  },
  {
   "cell_type": "code",
   "execution_count": 21,
   "id": "2a29473c",
   "metadata": {},
   "outputs": [],
   "source": [
    "train_dataset = Dataset.from_pandas(train)\n",
    "validate_dataset = Dataset.from_pandas(validate)\n",
    "test_dataset = Dataset.from_pandas(test)\n",
    "dataset_dict = datasets.DatasetDict({\"train\" : train_dataset, \"validate\" : validate_dataset, \"test\" : test_dataset})"
   ]
  },
  {
   "cell_type": "code",
   "execution_count": 23,
   "id": "5612a15e",
   "metadata": {},
   "outputs": [
    {
     "data": {
      "application/vnd.jupyter.widget-view+json": {
       "model_id": "6fccf859a028446e92a009c724779b41",
       "version_major": 2,
       "version_minor": 0
      },
      "text/plain": [
       "Saving the dataset (0/1 shards):   0%|          | 0/606495 [00:00<?, ? examples/s]"
      ]
     },
     "metadata": {},
     "output_type": "display_data"
    },
    {
     "data": {
      "application/vnd.jupyter.widget-view+json": {
       "model_id": "4cb335437cfb4af6aae397babdbe8f27",
       "version_major": 2,
       "version_minor": 0
      },
      "text/plain": [
       "Saving the dataset (0/1 shards):   0%|          | 0/202165 [00:00<?, ? examples/s]"
      ]
     },
     "metadata": {},
     "output_type": "display_data"
    },
    {
     "data": {
      "application/vnd.jupyter.widget-view+json": {
       "model_id": "967693631758455cb26b14e3e4470d3c",
       "version_major": 2,
       "version_minor": 0
      },
      "text/plain": [
       "Saving the dataset (0/1 shards):   0%|          | 0/202165 [00:00<?, ? examples/s]"
      ]
     },
     "metadata": {},
     "output_type": "display_data"
    }
   ],
   "source": [
    "# df_data.to_csv('train-sarcasm.csv')\n",
    "# dataset_dict.save_to_disk('arrow-sarcasm')"
   ]
  },
  {
   "cell_type": "code",
   "execution_count": null,
   "id": "06581c4e",
   "metadata": {},
   "outputs": [],
   "source": []
  }
 ],
 "metadata": {
  "kernelspec": {
   "display_name": "Python 3 (ipykernel)",
   "language": "python",
   "name": "python3"
  },
  "language_info": {
   "codemirror_mode": {
    "name": "ipython",
    "version": 3
   },
   "file_extension": ".py",
   "mimetype": "text/x-python",
   "name": "python",
   "nbconvert_exporter": "python",
   "pygments_lexer": "ipython3",
   "version": "3.10.9"
  }
 },
 "nbformat": 4,
 "nbformat_minor": 5
}
