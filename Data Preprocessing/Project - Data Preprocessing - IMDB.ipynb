{
 "cells": [
  {
   "cell_type": "code",
   "execution_count": 1,
   "id": "aeb70c83",
   "metadata": {},
   "outputs": [],
   "source": [
    "import pandas as pd\n",
    "import datasets\n",
    "from datasets import Dataset\n",
    "import numpy as np"
   ]
  },
  {
   "cell_type": "code",
   "execution_count": 2,
   "id": "53447a2c",
   "metadata": {},
   "outputs": [
    {
     "name": "stdout",
     "output_type": "stream",
     "text": [
      "                                              review sentiment\n",
      "0  One of the other reviewers has mentioned that ...  positive\n",
      "1  A wonderful little production. <br /><br />The...  positive\n",
      "2  I thought this was a wonderful way to spend ti...  positive\n",
      "3  Basically there's a family where a little boy ...  negative\n",
      "4  Petter Mattei's \"Love in the Time of Money\" is...  positive\n"
     ]
    }
   ],
   "source": [
    "df = pd.read_csv('Datasets/IMDB Dataset.csv')\n",
    "print(df.head())"
   ]
  },
  {
   "cell_type": "code",
   "execution_count": 3,
   "id": "d48623fe",
   "metadata": {},
   "outputs": [
    {
     "name": "stdout",
     "output_type": "stream",
     "text": [
      "                                              review sentiment\n",
      "0  One of the other reviewers has mentioned that ...         1\n",
      "1  A wonderful little production. <br /><br />The...         1\n",
      "2  I thought this was a wonderful way to spend ti...         1\n",
      "3  Basically there's a family where a little boy ...         0\n",
      "4  Petter Mattei's \"Love in the Time of Money\" is...         1\n"
     ]
    }
   ],
   "source": [
    "df['sentiment'] = df['sentiment'].mask(df['sentiment'] == 'positive', 1)\n",
    "df['sentiment'] = df['sentiment'].mask(df['sentiment'] == 'negative', 0)\n",
    "print(df.head())"
   ]
  },
  {
   "cell_type": "code",
   "execution_count": 6,
   "id": "f6f488ad",
   "metadata": {},
   "outputs": [
    {
     "name": "stdout",
     "output_type": "stream",
     "text": [
      "                                              review label\n",
      "0  One of the other reviewers has mentioned that ...     1\n",
      "1  A wonderful little production. <br /><br />The...     1\n",
      "2  I thought this was a wonderful way to spend ti...     1\n",
      "3  Basically there's a family where a little boy ...     0\n",
      "4  Petter Mattei's \"Love in the Time of Money\" is...     1\n"
     ]
    }
   ],
   "source": [
    "df = df.rename(columns = {'review' : 'review', 'sentiment' : 'label'})\n",
    "print(df.head())"
   ]
  },
  {
   "cell_type": "code",
   "execution_count": 7,
   "id": "31ae17e0",
   "metadata": {},
   "outputs": [
    {
     "name": "stdout",
     "output_type": "stream",
     "text": [
      "Train:  30000 . Validate:  10000 . Test:  10000\n",
      "Train:  15011   14989. Validate:  4993   5007. Test:  4993   5007\n"
     ]
    }
   ],
   "source": [
    "train, validate, test = np.split(df.sample(frac=1, random_state=42), \n",
    "                                 [int(.6*len(df)), int(.8*len(df))])\n",
    "train = train.reset_index(drop = True)\n",
    "validate = validate.reset_index(drop = True)\n",
    "test = validate.reset_index(drop = True)\n",
    "print('Train: ', len(train), \". Validate: \", len(validate), \". Test: \", len(test))\n",
    "print('Train: ', len(train[train['label'] == 1]), \" \", len(train[train['label'] == 0]), end = \". \")\n",
    "print('Validate: ', len(validate[validate['label'] == 1]), \" \", len(validate[validate['label'] == 0]), end = '. ')\n",
    "print('Test: ', len(test[test['label'] == 1]), \" \", len(test[test['label'] == 0]))"
   ]
  },
  {
   "cell_type": "code",
   "execution_count": 8,
   "id": "5751cfec",
   "metadata": {},
   "outputs": [],
   "source": [
    "train_dataset = Dataset.from_pandas(train)\n",
    "validate_dataset = Dataset.from_pandas(validate)\n",
    "test_dataset = Dataset.from_pandas(test)\n",
    "dataset_dict = datasets.DatasetDict({\"train\" : train_dataset, \"validate\" : validate_dataset, \"test\" : test_dataset})"
   ]
  },
  {
   "cell_type": "code",
   "execution_count": 9,
   "id": "5639b95e",
   "metadata": {},
   "outputs": [
    {
     "data": {
      "application/vnd.jupyter.widget-view+json": {
       "model_id": "7fede434f907426f9ecf1bf08446c874",
       "version_major": 2,
       "version_minor": 0
      },
      "text/plain": [
       "Saving the dataset (0/1 shards):   0%|          | 0/30000 [00:00<?, ? examples/s]"
      ]
     },
     "metadata": {},
     "output_type": "display_data"
    },
    {
     "data": {
      "application/vnd.jupyter.widget-view+json": {
       "model_id": "0f67aff80a2942988c8214aaae3ae9a2",
       "version_major": 2,
       "version_minor": 0
      },
      "text/plain": [
       "Saving the dataset (0/1 shards):   0%|          | 0/10000 [00:00<?, ? examples/s]"
      ]
     },
     "metadata": {},
     "output_type": "display_data"
    },
    {
     "data": {
      "application/vnd.jupyter.widget-view+json": {
       "model_id": "fa28eaa9ba9e45faa6c42a38b543ee03",
       "version_major": 2,
       "version_minor": 0
      },
      "text/plain": [
       "Saving the dataset (0/1 shards):   0%|          | 0/10000 [00:00<?, ? examples/s]"
      ]
     },
     "metadata": {},
     "output_type": "display_data"
    }
   ],
   "source": [
    "dataset_dict.save_to_disk('arrow-review')"
   ]
  },
  {
   "cell_type": "code",
   "execution_count": null,
   "id": "afe54d16",
   "metadata": {},
   "outputs": [],
   "source": []
  }
 ],
 "metadata": {
  "kernelspec": {
   "display_name": "Python 3 (ipykernel)",
   "language": "python",
   "name": "python3"
  },
  "language_info": {
   "codemirror_mode": {
    "name": "ipython",
    "version": 3
   },
   "file_extension": ".py",
   "mimetype": "text/x-python",
   "name": "python",
   "nbconvert_exporter": "python",
   "pygments_lexer": "ipython3",
   "version": "3.10.9"
  }
 },
 "nbformat": 4,
 "nbformat_minor": 5
}
